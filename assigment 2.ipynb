{
 "cells": [
  {
   "cell_type": "code",
   "execution_count": 2,
   "id": "6b645659-543f-4b9b-a36a-f0e119bcac2f",
   "metadata": {},
   "outputs": [
    {
     "name": "stdin",
     "output_type": "stream",
     "text": [
      "Enter the percentage 56\n"
     ]
    },
    {
     "name": "stdout",
     "output_type": "stream",
     "text": [
      "grade D\n"
     ]
    }
   ],
   "source": [
    "a = int(input(\"Enter the percentage\"))\n",
    "if a > 90:\n",
    "    print(\"grade A\")\n",
    "elif a > 80 and a <= 90:\n",
    "    print(\"grade B\")\n",
    "elif a>= 60 and a <= 80:\n",
    "    print(\"grade c\")\n",
    "elif a<60:\n",
    "    print(\"grade D\")\n",
    "else:\n",
    "    print(\"enter valid \")"
   ]
  },
  {
   "cell_type": "code",
   "execution_count": 3,
   "id": "f457fe96-2be4-4e10-aa34-8c4def8d1384",
   "metadata": {},
   "outputs": [
    {
     "name": "stdin",
     "output_type": "stream",
     "text": [
      "Cost price of a bike  75000\n"
     ]
    },
    {
     "name": "stdout",
     "output_type": "stream",
     "text": [
      "Tax will be 10%\n"
     ]
    }
   ],
   "source": [
    "b = int(input(\"Cost price of a bike \"))\n",
    "if b > 100000:\n",
    "    print(\"Tax will be 15%\")\n",
    "elif b > 50000 and b <= 100000:\n",
    "    print(\"Tax will be 10%\")\n",
    "elif b <= 50000:\n",
    "    print(\"Tax will be 5%\")\n"
   ]
  },
  {
   "cell_type": "code",
   "execution_count": 4,
   "id": "54b56aff-4ebe-4e4f-a5c3-fdd16b78b299",
   "metadata": {},
   "outputs": [
    {
     "name": "stdin",
     "output_type": "stream",
     "text": [
      "Enter city Delhi\n"
     ]
    },
    {
     "name": "stdout",
     "output_type": "stream",
     "text": [
      "Red fort\n"
     ]
    }
   ],
   "source": [
    "c = str(input(\"Enter city\"))\n",
    "if c == 'Delhi':\n",
    "    print(\"Red fort\")\n",
    "elif c == 'Agra':\n",
    "    print('Taj mahal')\n",
    "elif c == 'Jaipur':\n",
    "    print(\"Jal mahal\")\n",
    "else:\n",
    "    print(\"No enough Data\")"
   ]
  },
  {
   "cell_type": "code",
   "execution_count": 5,
   "id": "5cf560ea-c8df-48a0-b420-bbe76b5065cb",
   "metadata": {},
   "outputs": [
    {
     "name": "stdin",
     "output_type": "stream",
     "text": [
      "Enter your number: 18\n"
     ]
    },
    {
     "name": "stdout",
     "output_type": "stream",
     "text": [
      "It is divisable by 3 \n"
     ]
    }
   ],
   "source": [
    "num1=int(input(\"Enter your number:\"))\n",
    "if num1 >= 10:\n",
    "    if num1%3==0:\n",
    "        print(\"It is divisable by 3 \")\n",
    "    else:\n",
    "        print(\" not divisable \")\n",
    "else:\n",
    "    print(\"give number bigger than 10 \")\n",
    "        "
   ]
  },
  {
   "cell_type": "code",
   "execution_count": 6,
   "id": "2c89c9d7-d312-45ba-ba56-0a2fdc2edd65",
   "metadata": {},
   "outputs": [],
   "source": [
    "# question = Why and when to use while loop in python \n",
    "# ans = The while loop in Python is used when you want to repeat a \n",
    "#       block of code as long as a certain condition is true"
   ]
  },
  {
   "cell_type": "code",
   "execution_count": 7,
   "id": "5ea2d4e3-c5f1-48cf-8e19-3ab015ef3218",
   "metadata": {},
   "outputs": [
    {
     "name": "stdin",
     "output_type": "stream",
     "text": [
      "Enter number of rows :  5\n"
     ]
    },
    {
     "name": "stdout",
     "output_type": "stream",
     "text": [
      "* \n",
      "* * \n",
      "* * * \n",
      "* * * * \n",
      "* * * * * \n"
     ]
    }
   ],
   "source": [
    "#pattern 1 \n",
    "n = int(input('Enter number of rows : '))\n",
    "\n",
    "i = 1\n",
    "while i <= n :\n",
    "    j = 1\n",
    "    while j <= i:\n",
    "        print(\"*\", end = \" \")\n",
    "        j += 1\n",
    "    print()\n",
    "    i += 1"
   ]
  },
  {
   "cell_type": "code",
   "execution_count": 8,
   "id": "41679fff-e1e5-4798-93f4-f009838c4683",
   "metadata": {},
   "outputs": [
    {
     "name": "stdin",
     "output_type": "stream",
     "text": [
      "Enter number of rows :  6\n"
     ]
    },
    {
     "name": "stdout",
     "output_type": "stream",
     "text": [
      "* * * * * * \n",
      "* * * * * \n",
      "* * * * \n",
      "* * * \n",
      "* * \n",
      "* \n"
     ]
    }
   ],
   "source": [
    "#pattern 2\n",
    "n = int(input('Enter number of rows : '))\n",
    "\n",
    "i = 1\n",
    "while i <= n :\n",
    "    j = n\n",
    "    while j >= i:\n",
    "        print(\"*\", end = \" \")\n",
    "        j -= 1\n",
    "    print()\n",
    "    i += 1"
   ]
  },
  {
   "cell_type": "code",
   "execution_count": 10,
   "id": "1f9fd697-86f8-4990-9bae-8661c29ba44b",
   "metadata": {},
   "outputs": [
    {
     "name": "stdin",
     "output_type": "stream",
     "text": [
      "Enter the number 5\n"
     ]
    },
    {
     "name": "stdout",
     "output_type": "stream",
     "text": [
      "*****\n",
      "*****\n",
      "*****\n",
      "*****\n",
      "*****\n"
     ]
    }
   ],
   "source": [
    "#pattern 3\n",
    "size = int(input(\"Enter the number\"))\n",
    "for i in range(0, size):\n",
    "    for j in range(0, size):\n",
    "        print(\"*\", end=\"\")\n",
    "    print()"
   ]
  },
  {
   "cell_type": "code",
   "execution_count": 16,
   "id": "426ec602-0b4d-4ecd-8020-c7615cf9e348",
   "metadata": {},
   "outputs": [
    {
     "name": "stdout",
     "output_type": "stream",
     "text": [
      "10\n",
      "9\n",
      "8\n",
      "7\n",
      "6\n",
      "5\n",
      "4\n",
      "3\n",
      "2\n",
      "1\n"
     ]
    }
   ],
   "source": [
    "#reverse using while loop\n",
    "m = 10\n",
    "while m > 0:\n",
    "    print(m)\n",
    "    m = m - 1"
   ]
  },
  {
   "cell_type": "code",
   "execution_count": null,
   "id": "e6844b9b-7386-4a82-aedf-6cf6b73bb304",
   "metadata": {},
   "outputs": [],
   "source": []
  }
 ],
 "metadata": {
  "kernelspec": {
   "display_name": "Python 3 (ipykernel)",
   "language": "python",
   "name": "python3"
  },
  "language_info": {
   "codemirror_mode": {
    "name": "ipython",
    "version": 3
   },
   "file_extension": ".py",
   "mimetype": "text/x-python",
   "name": "python",
   "nbconvert_exporter": "python",
   "pygments_lexer": "ipython3",
   "version": "3.10.8"
  }
 },
 "nbformat": 4,
 "nbformat_minor": 5
}
